{
 "cells": [
  {
   "cell_type": "code",
   "execution_count": 54,
   "metadata": {},
   "outputs": [],
   "source": [
    "import numpy as np\n",
    "import pandas as pd\n",
    "import re\n",
    "\n",
    "import praw\n",
    "import emoji\n",
    "from concurrent.futures import ThreadPoolExecutor, as_completed\n",
    "\n",
    "from nltk.tokenize import word_tokenize\n",
    "from nltk.corpus import stopwords\n",
    "COMMON_WORDS = set(stopwords.words(\"english\"))"
   ]
  },
  {
   "cell_type": "code",
   "execution_count": 90,
   "metadata": {},
   "outputs": [],
   "source": [
    "class Get_subreddit():\n",
    "    def __init__(self, subreddit):\n",
    "        reddit = praw.Reddit(\n",
    "            client_id=\"BBO_q72yVclp5g\",\n",
    "            client_secret=\"ZRNH4nLoNBo8gI97pPZMydhEzwMj3A\",\n",
    "            user_agent=\"hsabbar\",\n",
    "        )\n",
    "        self.hot = reddit.subreddit(subreddit).hot(limit=1)\n",
    "        self.max_comments = 100\n",
    "        self.data = []\n",
    "        self.columns = ['title','id','score', 'date', 'author', 'content', 'num_comments', 'comments'] \n",
    "        \n",
    "    def get_data(self, submission):\n",
    "        data_tmp = []\n",
    "        comment_data = []\n",
    "        data_tmp = [submission.title, submission.id, submission.score,submission.created_utc, submission.author, \n",
    "                     submission.selftext, len(submission.comments)]\n",
    "\n",
    "        submission.comments.replace_more(limit=self.max_comments)\n",
    "        comment_data = [top_level_comment.body for top_level_comment in submission.comments[:self.max_comments]]\n",
    "        \n",
    "\n",
    "        \"\"\"\n",
    "        for top_level_comment in submission.comments[:self.max_comments]: \n",
    "            comment_data.append(top_level_comment.body)\n",
    "        if len(comment_data) < self.max_comments:\n",
    "            comment_data = comment_data + [None] * (self.max_comments - len(comment_data))\n",
    "        \"\"\"\n",
    "        return data_tmp + [' '.join(comment_data)]\n",
    "    \n",
    "    def get_data_multi_thread(self):\n",
    "        processes = []\n",
    "        with ThreadPoolExecutor(max_workers=62) as executor:\n",
    "            for submission in self.hot:\n",
    "                processes.append(executor.submit(self.get_data, submission))\n",
    "\n",
    "        self.data = [task.result() for task in as_completed(processes)]\n",
    "        \n",
    "        #print(self.data)\n",
    "        return pd.DataFrame(self.data, columns = self.columns)"
   ]
  },
  {
   "cell_type": "code",
   "execution_count": 101,
   "metadata": {
    "scrolled": false
   },
   "outputs": [
    {
     "name": "stdout",
     "output_type": "stream",
     "text": [
      "Wall time: 768 ms\n"
     ]
    },
    {
     "data": {
      "text/html": [
       "<div>\n",
       "<style scoped>\n",
       "    .dataframe tbody tr th:only-of-type {\n",
       "        vertical-align: middle;\n",
       "    }\n",
       "\n",
       "    .dataframe tbody tr th {\n",
       "        vertical-align: top;\n",
       "    }\n",
       "\n",
       "    .dataframe thead th {\n",
       "        text-align: right;\n",
       "    }\n",
       "</style>\n",
       "<table border=\"1\" class=\"dataframe\">\n",
       "  <thead>\n",
       "    <tr style=\"text-align: right;\">\n",
       "      <th></th>\n",
       "      <th>title</th>\n",
       "      <th>id</th>\n",
       "      <th>score</th>\n",
       "      <th>date</th>\n",
       "      <th>author</th>\n",
       "      <th>content</th>\n",
       "      <th>num_comments</th>\n",
       "      <th>comments</th>\n",
       "    </tr>\n",
       "  </thead>\n",
       "  <tbody>\n",
       "    <tr>\n",
       "      <th>0</th>\n",
       "      <td>⚡ Lightning Thursday! May 27, 2021: Explore th...</td>\n",
       "      <td>nm0wks</td>\n",
       "      <td>38</td>\n",
       "      <td>1.622095e+09</td>\n",
       "      <td>rBitcoinMod</td>\n",
       "      <td>The lightning network is a second-layer soluti...</td>\n",
       "      <td>7</td>\n",
       "      <td>What's the simplest video resource to have ln ...</td>\n",
       "    </tr>\n",
       "  </tbody>\n",
       "</table>\n",
       "</div>"
      ],
      "text/plain": [
       "                                               title      id  score  \\\n",
       "0  ⚡ Lightning Thursday! May 27, 2021: Explore th...  nm0wks     38   \n",
       "\n",
       "           date       author  \\\n",
       "0  1.622095e+09  rBitcoinMod   \n",
       "\n",
       "                                             content  num_comments  \\\n",
       "0  The lightning network is a second-layer soluti...             7   \n",
       "\n",
       "                                            comments  \n",
       "0  What's the simplest video resource to have ln ...  "
      ]
     },
     "execution_count": 101,
     "metadata": {},
     "output_type": "execute_result"
    }
   ],
   "source": [
    "%%time\n",
    "reddit_data = Get_subreddit(\"Bitcoin\")\n",
    "df = reddit_data.get_data_multi_thread()\n",
    "df.head()"
   ]
  },
  {
   "cell_type": "code",
   "execution_count": 102,
   "metadata": {},
   "outputs": [],
   "source": [
    "class Data_processing():\n",
    "    def __init__(self, df_o):\n",
    "        self.df = df_o\n",
    "        self.columns_text = ['title', 'content', 'comments'] #+ [f'comment{i}' for i in range(1, 101)]\n",
    "        self.del_url = re.compile(r'https(.*?)(\\s|$)')\n",
    "    \n",
    "    \n",
    "    def my_stopwords(self, word):\n",
    "        if not word in COMMON_WORDS:\n",
    "            return word\n",
    "        else:\n",
    "            pass\n",
    "\n",
    "    def multi_stopwords(self, text):\n",
    "        processes = []\n",
    "        text_tokens = word_tokenize(text)\n",
    "        print(text_tokens)\n",
    "        with ThreadPoolExecutor(max_workers=62) as executor:\n",
    "            for word in text_tokens:\n",
    "                processes.append(executor.submit(self.my_stopwords, word))\n",
    "        \n",
    "        data = [task.result() for task in as_completed(processes)]\n",
    "        print(type(data), data)\n",
    "        #return \" \".join(data)\n",
    "        \n",
    "    def nlp_pipeline(self, text):\n",
    "        if text is not None :\n",
    "            text = text.lower()\n",
    "            text = text.replace('\\n', ' ').replace('\\r', '')\n",
    "            text = ' '.join(text.split())\n",
    "            text = re.sub(r\"[A-Za-z\\.]*[0-9]+[A-Za-z%°\\.]*\", \" \", text)\n",
    "            text = re.sub(r\"(\\s\\-\\s|-$)\", \"\", text)\n",
    "            #text = re.sub(r\"[,\\!\\?\\%\\(\\)\\/\\\"]\", \"\", text)\n",
    "            text = re.sub(r\"\\&\\S*\\s\", \" \", text)\n",
    "            text = re.sub(r\"['&@¨=“”’‘+—^.;:-_~!\\{\\}*=\\%?,#<>\\\"()\\[\\]]\", \" \", text)\n",
    "            \n",
    "            for url in self.del_url.findall(text):\n",
    "                text = re.sub(f'https{url[0]}', \" \", text)\n",
    "            text = emoji.get_emoji_regexp().sub(\" \", text) \n",
    "            \n",
    "            text = self.multi_stopwords(text)\n",
    "            return text\n",
    "        else :\n",
    "            pass\n",
    "    \n",
    "    def clean_data(self):\n",
    "        for col_txt in self.columns_text :\n",
    "            self.df[col_txt] = self.df[col_txt].apply(lambda x:  self.nlp_pipeline(x))\n",
    "        \n",
    "        return self.df"
   ]
  },
  {
   "cell_type": "code",
   "execution_count": 103,
   "metadata": {
    "scrolled": false
   },
   "outputs": [
    {
     "name": "stdout",
     "output_type": "stream",
     "text": [
      "['lightning', 'thursday', 'may', 'explore', 'the', 'lightning', 'network']\n",
      "<class 'list'> ['thursday', 'network', None, 'lightning', 'lightning', 'explore', 'may']\n",
      "['the', 'lightning', 'network', 'is', 'a', 'second-layer', 'solution', 'on', 'top', 'of', 'the', 'bitcoin', 'blockchain', 'that', 'enables', 'quick', 'cheap', 'and', 'scalable', 'bitcoin', 'payments', 'here', 'is', 'the', 'place', 'to', 'discuss', 'and', 'learn', 'more', 'about', 'lightning', 'ask', 'your', 'questions', 'about', 'lightning', 'provide', 'reviews', 'feedback', 'comparisons', 'of', 'ln', 'apps', 'services', 'websites', 'etc', 'learn', 'about', 'new', 'ln', 'features', 'development', 'apps', 'link', 'to', 'good', 'quality', 'resources', 'articles', 'wikis', 'etc', 'resources', 'here', 'is', 'an', 'awesome', 'list', 'of', 'resources', 'compiled', 'by', 'jameson', 'lopp', '//www', 'lopp', 'net/lightning-information', 'html', 'want', 'to', 'test', 'out', 'your', 'lightning', 'fire', 'power', 'tip', 'the', 'bitcoin', 'devs', '//bitcoindevlist', 'com/', 'previous', 'threads', 'search', '//www', 'reddit', 'com/r/bitcoin/search', 'q', 'lightning', 'thursday', 'on', 'lnbook', 'getting', 'closer', 'towards', 'being', 'finished', 'and', 'can', 'already', 'be', 'seen', 'at', '//github', 'com/lnbook/lnbook', 'lightning', 'dedicated', 'youtube', 'channel', '//youtube', 'com/renepickhardt', 'also', 'there', 'is', 'the', 'playlist', 'by', 'chaincode', 'labs', '//youtube', 'com/playlist', 'list', 'lightning', 'stores', '//www', 'lightningnetworkstores', 'com/', 'learn', 'more', 'and', 'talk', 'about', 'lightning', 'right', 'here', 'in', 'r/bitcoin', 'r/bitcoinbeginners', 'r/thelightningnetwork', 'and', 'the', 'r/bitcoin', 'chat', '//discord', 'gg/']\n",
      "<class 'list'> ['lightning', 'feedback', 'chat', 'stores', 'thursday', None, None, None, None, None, 'finished', None, 'q', 'apps', 'questions', 'link', 'lightningnetworkstores', 'towards', 'ask', 'good', 'com/r/bitcoin/search', 'lnbook', 'right', 'lightning', None, 'comparisons', 'also', None, 'apps', 'reddit', None, None, 'learn', 'etc', 'getting', 'resources', 'development', None, 'reviews', 'features', 'list', 'lightning', 'already', None, '//www', None, 'discuss', 'place', 'r/bitcoinbeginners', 'bitcoin', 'quality', 'services', 'new', 'devs', None, 'r/bitcoin', 'ln', 'list', None, 'provide', '//discord', None, 'lightning', 'ln', None, None, 'websites', 'com/renepickhardt', 'gg/', '//www', 'learn', 'com/', 'closer', '//bitcoindevlist', 'bitcoin', '//github', None, 'payments', 'dedicated', None, 'solution', 'playlist', None, '//youtube', 'lightning', 'com/playlist', 'cheap', 'seen', None, None, 'want', 'network', None, '//www', None, 'youtube', 'r/bitcoin', 'articles', None, None, None, None, 'bitcoin', 'tip', 'compiled', 'chaincode', None, 'labs', None, 'channel', None, 'etc', 'lightning', 'search', 'com/lnbook/lnbook', 'blockchain', 'learn', 'wikis', 'test', None, 'talk', 'second-layer', 'power', None, None, None, 'lopp', 'enables', 'lopp', None, 'threads', 'previous', 'awesome', 'com/', None, None, 'r/thelightningnetwork', None, '//youtube', 'resources', 'scalable', 'net/lightning-information', 'fire', None, 'top', 'html', 'lightning', 'resources', None, None, None, 'quick', None, None, 'jameson', 'lightning']\n",
      "['what', 's', 'the', 'simplest', 'video', 'resource', 'to', 'have', 'ln', 'up', 'and', 'running', 'just', 'want', 'to', 'try', 'it', 'out', '//staging', 'lightning', 'engineering/sidecar-channel-blog/posts/-', '-sidecar-channels/', 'when', 'you', 'want', 'to', 'onboard', 'a', 'stranger/friend', 'onto', 'bitcoin', 'you', 'can', 'just', 'send', 'them', 'some', 'coins', 'on-chain', 'if', 'they', 'then', 'want', 'to', 'use', 'ln', 'they', 'need', 'to', 'do', 'another', 'transaction', 'to', 'possibly', 'move', 'those', 'funds', 'into', 'an', 'ln', 'wallet', 'then', 'open', 'a', 'channel', 'what', 'we', 've', 'released', 'today', 'lets', 'your', 'friend', 'skip', 'the', 'normal', 'on-chain', 'flow', 'and', 'go', 'directly', 'to', 'layer', 'lightning', 'under', 'the', 'hood', 'it', 'uses', 'pool', '//lightning', 'engineering/pool/', 'to', 'source', 'a', 'liquidity', 'provider', 'who', 'is', 'ideally', 'a', 'well', 'connected', 'and', 'well', 'run', 'routing', 'node', 'to', 'open', 'an', 'initial', 'channel', 'to', 'them', 'in', 'an', 'atomic', 'operation', 'the', 'channel', 'opened', 'may', 'even', 'have', 'funds', 'on', 'both', 'sides', 'to', 'let', 'your', 'friend', 'receive/send', 'using', 'the', 'channel', 'as', 'soon', 'as', 'it', 's', 'confirmed', 'as', 'all', 'operations', 'on', 'pool', 'are', 'batched', 'together', 'in', 'a', 'single', 'transaction', 'in', 'aggregate', 'more', 'people', 'can', 'be', 'on', 'boarded', 'onto', 'w/', 'less', 'chain', 'fees', 'spent', 'compared', 'to', 'if', 'they', 'all', 'did', 'it', 'by', 'themselves', 'in', 'isolation', 'how', 'profitable', 'is', 'it', 'to', 'run', 'a', 'lightning', 'node', 'can', 'i', 'easily', 'deploy', 'some', 'btc', 'to', 'generate', 'income', 'like', 'lending', 'on', 'defi', 'hi', 'tldr', 'is', 'it', 'possible', 'to', 'use', 'ln', 'to', 'accept', 'payments', 'only', 'and', 'withdraw', 'to', 'btc', '--', '--', '--', '--', '--', 'in', 'bull', 'run', 'i', 'got', 'interested', 'in', 'lightning', 'created', 'a', 'lightning', 'wallet', 'and', 'experimented', 'with', 'it', 'made', 'some', 'purchases', 'online', 'it', 'workwd', 'very', 'well', 'and', 'fees', 'were', 'nearly', 'so', 'far', 'i', 'was', 'very', 'happy', 'with', 'that', 'but', 'when', 'i', 'wanted', 'to', 'use', 'lightning', 'to', 'accept', 'payment', 'in', 'my', 'bussiness', 'it', 'became', 'a', 'problem', 'if', 'i', 'want', 'to', 'accept', 'payments', 'in', 'ln', 'i', 'have', 'to', 'first', 'lock', 'my', 'bitcoins', 'ans', 'spend', 'them', 'to', 'free', 'up', 'space', 'so', 'i', 'cam', 'recieve', 'money', 'from', 'someone', 'else', 'that', 'was', 'really', 'unusable', 'i', 'was', 'able', 'to', 'solve', 'this', 'by', 'using', 'a', 'party', 'servise', 'which', 'holds', 'btc', 'on', 'ln', 'for', 'me', 'but', 'i', 'can', 'again', 'only', 'spend', 'it', 'i', 'am', 'not', 'able', 'to', 'turn', 'it', 'back', 'to', 'btc', 'is', 'there', 'an', 'easy', 'solution', 'now', 'or', 'is', 'it', 'still', 'the', 'same', 'i', 'guess', 'if', 'i', 'operate', 'my', 'own', 'ln', 'node', 'it', 'would', 'be', 'different', 'but', 'i', 'am', 'not', 'an', 'it', 'guy', 'i', 'am', 'looking', 'for', 'easy', 'solutions', 'and', 'we', 'need', 'easy', 'solutions', 'if', 'we', 'want', 'more', 'people', 'to', 'use', 'btc', 'and', 'lightning', 'i', 'm', 'not', 'too', 'tech', 'savvy', 'but', 'i', 'want', 'to', 'contribute', 'to', 'the', 'ln', 'is', 'there', 'a', 'ready-to-run', 'solution', 'for', 'ln', 'nodes', 'that', 'i', 'can', 'run', 'on', 'windows', 'server', 'or', 'something', 'never', 'used', 'linux', 'yet', 'i', 'could', 'get', 'my', 'hands', 'on', 'a', 'cheap', 'mac', 'mini', 'that', 'i', 'would', 'like', 'to', 'use', 'to', 'run', 'a', 'node', 'i', 'm', 'ok', 'to', 'do', 'a', 'clean', 'install', 'of', 'ubuntu', 'on', 'it', 'so', 'i', 'won', 't', 'be', 'using', 'osx', 'is', 'this', 'a', 'good', 'idea', 'or', 'should', 'i', 'rather', 'go', 'the', 'raspberry', 'pi', 'route', 'like', 'most', 'people', 'hi', 'there', 'how', 'would', 'a', 'little', 'website', 'set', 'up', 'a', 'bitcoin', 'node', 'to', 'allow', 'customers', 'pay', 'through', 'the', 'lightning', 'network', 'is', 'it', 'complicated', 'as', 'i', 'am', 'not', 'a', 'wiz', 'kid', 'like', 'most', 'here']\n",
      "<class 'list'> ['solution', None, 'turn', 'really', 'operations', None, 'lightning', 'unusable', None, 'btc', None, None, None, 'wiz', None, None, None, 'run', 'easy', None, 'ln', 'bitcoin', None, None, 'btc', None, None, None, 'back', 'pool', None, None, 'else', None, None, None, None, None, 'free', None, 'onto', None, None, None, None, None, None, 'like', None, None, None, None, 'kid', None, None, 'space', None, 'transaction', None, None, 'onboard', 'single', 'want', None, 'lock', None, None, None, 'spend', None, 'easily', 'coins', 'isolation', 'still', None, None, None, 'ans', None, 'profitable', None, 'deploy', 'engineering/pool/', None, None, None, None, None, None, 'easy', 'bitcoins', 'hands', '--', None, 'something', 'linux', 'used', 'experimented', None, 'could', None, None, 'bull', None, None, None, 'ok', None, 'windows', None, None, None, None, 'never', None, None, None, None, 'pay', 'stranger/friend', 'engineering/sidecar-channel-blog/posts/-', None, None, 'run', None, 'run', None, '--', None, None, 'got', None, 'use', 'ln', 'want', '--', '-sidecar-channels/', 'lightning', None, 'wallet', 'node', '--', None, 'yet', 'btc', 'use', None, '//staging', None, 'lightning', 'get', None, None, '--', None, 'server', None, 'interested', None, 'would', 'contribute', None, None, 'ln', None, None, 'channel', 'go', None, None, None, 'initial', 'possibly', 'may', None, 'like', 'open', 'good', 'people', 'allow', None, 'lightning', None, 'today', 'want', 'even', 'guy', 'ubuntu', None, 'move', 'channel', None, None, 'able', 'source', None, 'install', None, 'want', None, 'lets', 'need', 'ln', None, None, None, None, None, None, None, None, 'wallet', None, 'use', None, None, 'idea', None, None, 'opened', None, None, 'released', 'clean', 'btc', None, None, None, None, 'solutions', None, None, 'would', None, 'need', None, None, None, 'lightning', 'node', None, 'atomic', 'ln', None, None, 'website', None, None, None, 'little', None, 'operation', None, None, 'solutions', 'different', None, None, None, 'hi', 'looking', None, None, None, None, None, None, 'using', None, 'transaction', 'another', None, 'want', None, 'channel', 'funds', 'would', None, None, None, None, 'network', None, 'on-chain', None, 'send', None, 'first', 'use', None, None, 'easy', 'cam', None, 'fees', None, 'far', None, None, 'workwd', None, None, 'online', None, None, 'ln', None, 'happy', None, 'purchases', 'recieve', None, 'well', 'nearly', None, None, None, None, None, 'chain', 'set', 'like', 'w/', 'together', 'simplest', None, None, None, None, None, 'layer', 'rather', 'fees', None, 'less', 'lightning', 'people', None, 'node', None, 'people', 'generate', 'onto', None, 'batched', 'normal', None, None, None, None, None, None, 'skip', 'pi', None, 'on-chain', None, 'flow', 'raspberry', 'friend', 'directly', 'go', None, 'compared', None, None, None, 'bitcoin', 'route', None, 'spent', None, None, 'boarded', None, None, None, None, 'pool', None, None, 'routing', None, 'hood', 'payment', 'someone', None, 'want', 'complicated', None, None, 'payments', None, None, 'lightning', None, None, None, None, None, 'holds', 'wanted', 'use', None, 'became', 'channel', 'btc', 'spend', None, 'solve', 'uses', 'accept', 'provider', 'bussiness', 'connected', None, 'ln', 'run', 'guess', 'funds', None, 'accept', 'well', 'ideally', 'using', None, '//lightning', 'operate', None, None, None, None, None, 'able', None, None, 'node', None, 'liquidity', None, 'problem', None, 'well', 'servise', 'money', 'party', 'open', 'ln', 'possible', None, 'income', 'running', None, None, None, 'mac', 'like', 'osx', None, 'tech', None, 'tldr', None, None, 'nodes', 'lightning', 'created', None, 'node', 'savvy', None, 'withdraw', 'lending', None, None, 'made', 'cheap', None, 'solution', None, 'accept', 'using', None, None, None, None, None, None, 'resource', 'friend', None, None, None, 'let', 'run', 'soon', None, 'aggregate', None, 'hi', None, 'confirmed', None, 'try', None, None, None, None, 'ln', None, 'receive/send', 'video', None, 'sides', None, None, 'defi', None, 'ready-to-run', 'payments', 'mini', 'customers']\n",
      "Wall time: 60.9 ms\n"
     ]
    },
    {
     "data": {
      "text/html": [
       "<div>\n",
       "<style scoped>\n",
       "    .dataframe tbody tr th:only-of-type {\n",
       "        vertical-align: middle;\n",
       "    }\n",
       "\n",
       "    .dataframe tbody tr th {\n",
       "        vertical-align: top;\n",
       "    }\n",
       "\n",
       "    .dataframe thead th {\n",
       "        text-align: right;\n",
       "    }\n",
       "</style>\n",
       "<table border=\"1\" class=\"dataframe\">\n",
       "  <thead>\n",
       "    <tr style=\"text-align: right;\">\n",
       "      <th></th>\n",
       "      <th>title</th>\n",
       "      <th>id</th>\n",
       "      <th>score</th>\n",
       "      <th>date</th>\n",
       "      <th>author</th>\n",
       "      <th>content</th>\n",
       "      <th>num_comments</th>\n",
       "      <th>comments</th>\n",
       "    </tr>\n",
       "  </thead>\n",
       "  <tbody>\n",
       "    <tr>\n",
       "      <th>0</th>\n",
       "      <td>None</td>\n",
       "      <td>nm0wks</td>\n",
       "      <td>38</td>\n",
       "      <td>1.622095e+09</td>\n",
       "      <td>rBitcoinMod</td>\n",
       "      <td>None</td>\n",
       "      <td>7</td>\n",
       "      <td>None</td>\n",
       "    </tr>\n",
       "  </tbody>\n",
       "</table>\n",
       "</div>"
      ],
      "text/plain": [
       "  title      id  score          date       author content  num_comments  \\\n",
       "0  None  nm0wks     38  1.622095e+09  rBitcoinMod    None             7   \n",
       "\n",
       "  comments  \n",
       "0     None  "
      ]
     },
     "execution_count": 103,
     "metadata": {},
     "output_type": "execute_result"
    }
   ],
   "source": [
    "%%time\n",
    "data_proc = Data_processing(df)\n",
    "df2 = data_proc.clean_data()\n",
    "df2.head()"
   ]
  },
  {
   "cell_type": "code",
   "execution_count": null,
   "metadata": {},
   "outputs": [],
   "source": []
  }
 ],
 "metadata": {
  "kernelspec": {
   "display_name": "Python 3",
   "language": "python",
   "name": "python3"
  },
  "language_info": {
   "codemirror_mode": {
    "name": "ipython",
    "version": 3
   },
   "file_extension": ".py",
   "mimetype": "text/x-python",
   "name": "python",
   "nbconvert_exporter": "python",
   "pygments_lexer": "ipython3",
   "version": "3.8.5"
  }
 },
 "nbformat": 4,
 "nbformat_minor": 4
}
